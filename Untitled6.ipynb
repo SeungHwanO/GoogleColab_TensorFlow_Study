{
  "nbformat": 4,
  "nbformat_minor": 0,
  "metadata": {
    "colab": {
      "name": "Untitled6.ipynb",
      "provenance": [],
      "collapsed_sections": [],
      "authorship_tag": "ABX9TyMTdcVpNAzmmzmiy3JqPQ7o",
      "include_colab_link": true
    },
    "kernelspec": {
      "name": "python3",
      "display_name": "Python 3"
    },
    "language_info": {
      "name": "python"
    }
  },
  "cells": [
    {
      "cell_type": "markdown",
      "metadata": {
        "id": "view-in-github",
        "colab_type": "text"
      },
      "source": [
        "<a href=\"https://colab.research.google.com/github/SeungHwanO/TensorFlow_Study/blob/hwani/Untitled6.ipynb\" target=\"_parent\"><img src=\"https://colab.research.google.com/assets/colab-badge.svg\" alt=\"Open In Colab\"/></a>"
      ]
    },
    {
      "cell_type": "code",
      "metadata": {
        "id": "rUS9nwoj5BfQ"
      },
      "source": [
        "import numpy as np\n",
        "import matplotlib.pyplot as plt\n",
        "\n",
        "def make_linear(w=0.5, b=0.8, size=5.0, noise=1.0):\n",
        "  x=np.random.rand(size)\n",
        "  y=w*x+binnoise=np.random.uniform(-abs(noise), abs(noise), size=y.shape)\n",
        "  yy=y+noise\n",
        "  plt.figure(figsize=(10,7))\n",
        "  plt.plot(x,yy)"
      ],
      "execution_count": null,
      "outputs": []
    },
    {
      "cell_type": "code",
      "metadata": {
        "colab": {
          "base_uri": "https://localhost:8080/",
          "height": 245
        },
        "id": "QsP2i9Tb1goo",
        "outputId": "beb08348-cc40-4e4b-d216-a818514da6c1"
      },
      "source": [
        "num_epoch = 1000\n",
        "\n",
        "learing_rate = 0.005\n",
        "\n",
        "errors = []\n",
        "\n",
        "w = np.random.uniform(low=0.0, high=1.0)\n",
        "b = np.random.uniform(low=0.0, high=1.0)\n",
        "\n",
        "for epoch in range(num_epoch):\n",
        "  y_hat = w * x + b\n",
        "\n",
        "  error = 0.5*((y_hat-y)**2).sum()\n",
        "  if error<0.005:\n",
        "    break\n",
        "  w = w - learning_rate * ((y_hat - y) * x).sum()\n",
        "  b = b - learning_rate * (y_hat - y).sum()\n",
        "  \n",
        "  errors.append(error)\n",
        "\n",
        "  if epoch % 5 == 0:\n",
        "    print(\"{0:2} w = {2:,5f}, b = {2:5f} error = {3:5f}\".formmat(epoch, w, b, error))\n",
        "  print(\"------\" * 15)\n",
        "  print(\"{0:2} w = {2:,5f}, b = {2:5f} error = {3:5f}\".formmat(epoch, w, b, error))"
      ],
      "execution_count": null,
      "outputs": [
        {
          "output_type": "error",
          "ename": "NameError",
          "evalue": "ignored",
          "traceback": [
            "\u001b[0;31m---------------------------------------------------------------------------\u001b[0m",
            "\u001b[0;31mNameError\u001b[0m                                 Traceback (most recent call last)",
            "\u001b[0;32m<ipython-input-2-df56463c8b04>\u001b[0m in \u001b[0;36m<module>\u001b[0;34m()\u001b[0m\n\u001b[1;32m      5\u001b[0m \u001b[0merrors\u001b[0m \u001b[0;34m=\u001b[0m \u001b[0;34m[\u001b[0m\u001b[0;34m]\u001b[0m\u001b[0;34m\u001b[0m\u001b[0;34m\u001b[0m\u001b[0m\n\u001b[1;32m      6\u001b[0m \u001b[0;34m\u001b[0m\u001b[0m\n\u001b[0;32m----> 7\u001b[0;31m \u001b[0mw\u001b[0m \u001b[0;34m=\u001b[0m \u001b[0mnp\u001b[0m\u001b[0;34m.\u001b[0m\u001b[0mrandom\u001b[0m\u001b[0;34m.\u001b[0m\u001b[0muniform\u001b[0m\u001b[0;34m(\u001b[0m\u001b[0mlow\u001b[0m\u001b[0;34m=\u001b[0m\u001b[0;36m0.0\u001b[0m\u001b[0;34m,\u001b[0m \u001b[0mhigh\u001b[0m\u001b[0;34m=\u001b[0m\u001b[0;36m1.0\u001b[0m\u001b[0;34m)\u001b[0m\u001b[0;34m\u001b[0m\u001b[0;34m\u001b[0m\u001b[0m\n\u001b[0m\u001b[1;32m      8\u001b[0m \u001b[0mb\u001b[0m \u001b[0;34m=\u001b[0m \u001b[0mnp\u001b[0m\u001b[0;34m.\u001b[0m\u001b[0mrandom\u001b[0m\u001b[0;34m.\u001b[0m\u001b[0muniform\u001b[0m\u001b[0;34m(\u001b[0m\u001b[0mlow\u001b[0m\u001b[0;34m=\u001b[0m\u001b[0;36m0.0\u001b[0m\u001b[0;34m,\u001b[0m \u001b[0mhigh\u001b[0m\u001b[0;34m=\u001b[0m\u001b[0;36m1.0\u001b[0m\u001b[0;34m)\u001b[0m\u001b[0;34m\u001b[0m\u001b[0;34m\u001b[0m\u001b[0m\n\u001b[1;32m      9\u001b[0m \u001b[0;34m\u001b[0m\u001b[0m\n",
            "\u001b[0;31mNameError\u001b[0m: name 'np' is not defined"
          ]
        }
      ]
    },
    {
      "cell_type": "code",
      "metadata": {
        "id": "gNxLcB1H4y9M"
      },
      "source": [
        ""
      ],
      "execution_count": null,
      "outputs": []
    },
    {
      "cell_type": "code",
      "metadata": {
        "id": "dP1YOg7T5ApM"
      },
      "source": [
        "import tensorflow as tf\n",
        "\n",
        "mnist = tf.keras.datasets.mnist"
      ],
      "execution_count": null,
      "outputs": []
    },
    {
      "cell_type": "code",
      "metadata": {
        "colab": {
          "base_uri": "https://localhost:8080/"
        },
        "id": "mte2icqL6MBa",
        "outputId": "f1cda1f7-f51b-413f-864c-70dc9760c4e3"
      },
      "source": [
        "(x_train, y_train),(x_test, y_test) = mnist.load_data()"
      ],
      "execution_count": null,
      "outputs": [
        {
          "output_type": "stream",
          "name": "stdout",
          "text": [
            "Downloading data from https://storage.googleapis.com/tensorflow/tf-keras-datasets/mnist.npz\n",
            "11493376/11490434 [==============================] - 0s 0us/step\n",
            "11501568/11490434 [==============================] - 0s 0us/step\n"
          ]
        }
      ]
    },
    {
      "cell_type": "code",
      "metadata": {
        "colab": {
          "base_uri": "https://localhost:8080/"
        },
        "id": "5JsjJXII6dkp",
        "outputId": "81134044-b962-41f7-9cf5-a9b13228f81e"
      },
      "source": [
        "print('train set:',x_train.shape, y_train.shape)\n",
        "print('test set',x_test.shape, y_test.shape)"
      ],
      "execution_count": null,
      "outputs": [
        {
          "output_type": "stream",
          "name": "stdout",
          "text": [
            "train set: (60000, 28, 28) (60000,)\n",
            "test set (10000, 28, 28) (10000,)\n"
          ]
        }
      ]
    },
    {
      "cell_type": "code",
      "metadata": {
        "colab": {
          "base_uri": "https://localhost:8080/",
          "height": 371
        },
        "id": "JX_Q0p7O66mj",
        "outputId": "1f2aac3d-9544-4439-a90f-88a4df1675bc"
      },
      "source": [
        "#데이터 시각화\n",
        "import matplotlib.pyplot as plt\n",
        "\n",
        "fig, axes = plt.subplots(3,5)\n",
        "fig.set_size_inches(8, 5)\n",
        "\n",
        "for i in range(15):\n",
        "  ax = axes[i//5, i%5]\n",
        "  ax.imshow(x_train[i], cmap='gray')\n",
        "  ax.axis('off')\n",
        "  ax.set_title(str(y_train[i]))\n",
        "  \n",
        "plt.tight_layout()\n",
        "plt.show()"
      ],
      "execution_count": null,
      "outputs": [
        {
          "output_type": "display_data",
          "data": {
            "image/png": "[encoded data removed]",
            "text/plain": [
              "<Figure size 576x360 with 15 Axes>"
            ]
          },
          "metadata": {
            "needs_background": "light"
          }
        }
      ]
    },
    {
      "cell_type": "code",
      "metadata": {
        "colab": {
          "base_uri": "https://localhost:8080/"
        },
        "id": "3QMOfthl7w6T",
        "outputId": "37be1391-2bf0-430c-f9df-8cf64c696760"
      },
      "source": [
        "x_train[0, 10:15, 10:15]"
      ],
      "execution_count": null,
      "outputs": [
        {
          "output_type": "execute_result",
          "data": {
            "text/plain": [
              "array([[  1, 154, 253,  90,   0],\n",
              "       [  0, 139, 253, 190,   2],\n",
              "       [  0,  11, 190, 253,  70],\n",
              "       [  0,   0,  35, 241, 225],\n",
              "       [  0,   0,   0,  81, 240]], dtype=uint8)"
            ]
          },
          "metadata": {},
          "execution_count": 10
        }
      ]
    },
    {
      "cell_type": "code",
      "metadata": {
        "id": "gRJVHWDf8pwV",
        "colab": {
          "base_uri": "https://localhost:8080/"
        },
        "outputId": "bb7660ee-3f9d-43dd-d232-58585daf86e2"
      },
      "source": [
        "print(f'변경 전 shape: {x_train.shape}')\n",
        "print(f'ID으로 shape 변경 후 : {x_train.reshape(60000, -1).shape}')"
      ],
      "execution_count": null,
      "outputs": [
        {
          "output_type": "stream",
          "name": "stdout",
          "text": [
            "변경 전 shape: (60000, 28, 28)\n",
            "ID으로 shape 변경 후 : (60000, 784)\n"
          ]
        }
      ]
    },
    {
      "cell_type": "code",
      "metadata": {
        "colab": {
          "base_uri": "https://localhost:8080/"
        },
        "id": "3N0GHIniGk-X",
        "outputId": "688dbb70-1fdb-493e-ef0c-1afaf3be4bd3"
      },
      "source": [
        "print(f'변경 전 shape: {x_train.shape}')\n",
        "print(f'Flatten 변경 후: {tf.keras.layers.Flatten()(x_train).shape}')"
      ],
      "execution_count": null,
      "outputs": [
        {
          "output_type": "stream",
          "name": "stdout",
          "text": [
            "변경 전 shape: (60000, 28, 28)\n",
            "Flatten 변경 후: (60000, 784)\n"
          ]
        }
      ]
    },
    {
      "cell_type": "code",
      "metadata": {
        "colab": {
          "base_uri": "https://localhost:8080/"
        },
        "id": "XoRsLPboG5ny",
        "outputId": "c68f1229-2735-4cfc-c4ad-12cf3d45b6e6"
      },
      "source": [
        "tf.keras.layers.Dense(128,activation='relu')"
      ],
      "execution_count": null,
      "outputs": [
        {
          "output_type": "execute_result",
          "data": {
            "text/plain": [
              "<keras.layers.core.dense.Dense at 0x7f1bac79d410>"
            ]
          },
          "metadata": {},
          "execution_count": 15
        }
      ]
    },
    {
      "cell_type": "code",
      "metadata": {
        "id": "oVus9v8dHCuC"
      },
      "source": [
        "model=tf.keras.Sequential([\n",
        "      tf.keras.layers.Dense(128),\n",
        "      tf.keras.layers.Activation('relu')\n",
        "])"
      ],
      "execution_count": null,
      "outputs": []
    },
    {
      "cell_type": "code",
      "metadata": {
        "id": "gXTwLzIuHkQy"
      },
      "source": [
        "model = tf.keras.Sequential([\n",
        "        tf.keras.layers.Flatten(input_shape=(28,28)),\n",
        "        tf.keras.layers.Dense(256,activation='relu'),\n",
        "        tf.keras.layers.Dense(64, activation='relu'),\n",
        "        tf.keras.layers.Dense(32, activation='relu'),\n",
        "        tf.keras.layers.Dense(10, activation='softmax'),\n",
        "])"
      ],
      "execution_count": null,
      "outputs": []
    },
    {
      "cell_type": "code",
      "metadata": {
        "colab": {
          "base_uri": "https://localhost:8080/"
        },
        "id": "zNDZjbfpKYod",
        "outputId": "968a24f6-50ec-4ae9-994e-f8faa1d86da3"
      },
      "source": [
        "tf.keras.layers.Dense(1, activation='sigmoid')\n",
        "tf.keras.layers.Dense(10, activation='softmax')"
      ],
      "execution_count": null,
      "outputs": [
        {
          "output_type": "execute_result",
          "data": {
            "text/plain": [
              "<keras.layers.core.dense.Dense at 0x7f1b9f4ab690>"
            ]
          },
          "metadata": {},
          "execution_count": 22
        }
      ]
    },
    {
      "cell_type": "code",
      "metadata": {
        "id": "f47JUf5wKzQI"
      },
      "source": [
        "model.compile(loss='binary_crossentropy')"
      ],
      "execution_count": null,
      "outputs": []
    },
    {
      "cell_type": "code",
      "metadata": {
        "id": "SA1hm654K61M"
      },
      "source": [
        "model.compile(loss='categorical_crossentropy')\n",
        "model.compile(loss='sparse_categorical_crossentropy')"
      ],
      "execution_count": null,
      "outputs": []
    },
    {
      "cell_type": "code",
      "metadata": {
        "colab": {
          "base_uri": "https://localhost:8080/"
        },
        "id": "LoRjAZwqLK2h",
        "outputId": "d989fb48-a247-4bd9-dcfc-1571cec905b4"
      },
      "source": [
        "adam=tf.keras.optimizers.Adam(lr=0.001)\n",
        "model.compile(optimizer=adam)\n",
        "\n",
        "model.compile(optimizer='adam')"
      ],
      "execution_count": null,
      "outputs": [
        {
          "output_type": "stream",
          "name": "stderr",
          "text": [
            "/usr/local/lib/python3.7/dist-packages/keras/optimizer_v2/adam.py:105: UserWarning: The `lr` argument is deprecated, use `learning_rate` instead.\n",
            "  super(Adam, self).__init__(name, **kwargs)\n"
          ]
        }
      ]
    },
    {
      "cell_type": "code",
      "metadata": {
        "id": "0LOltUULLjiz"
      },
      "source": [
        "acc = tf.keras.metrics.SparseCategoricalAccuracy()\n",
        "\n",
        "model.compile(optimizer='adam',\n",
        "              loss='sparse_categorical_crossentropy',\n",
        "              metrics=['accuracy'])"
      ],
      "execution_count": null,
      "outputs": []
    },
    {
      "cell_type": "code",
      "metadata": {
        "colab": {
          "base_uri": "https://localhost:8080/"
        },
        "id": "Jsjxjixy8B6C",
        "outputId": "66ae7610-4065-45f8-d6bf-bb42172c5b3e"
      },
      "source": [
        "#훈련\n",
        "model.fit(x_train,y_train,\n",
        "          validation_data = (x_test, y_test),\n",
        "          epochs=10,\n",
        "          )"
      ],
      "execution_count": null,
      "outputs": [
        {
          "output_type": "stream",
          "name": "stdout",
          "text": [
            "Epoch 1/10\n",
            "1875/1875 [==============================] - 7s 3ms/step - loss: 0.8745 - accuracy: 0.8461 - val_loss: 0.3351 - val_accuracy: 0.9204\n",
            "Epoch 2/10\n",
            "1875/1875 [==============================] - 6s 3ms/step - loss: 0.2451 - accuracy: 0.9338 - val_loss: 0.2130 - val_accuracy: 0.9452\n",
            "Epoch 3/10\n",
            "1875/1875 [==============================] - 6s 3ms/step - loss: 0.1765 - accuracy: 0.9516 - val_loss: 0.1793 - val_accuracy: 0.9536\n",
            "Epoch 4/10\n",
            "1875/1875 [==============================] - 6s 3ms/step - loss: 0.1346 - accuracy: 0.9626 - val_loss: 0.1306 - val_accuracy: 0.9632\n",
            "Epoch 5/10\n",
            "1875/1875 [==============================] - 6s 3ms/step - loss: 0.1085 - accuracy: 0.9689 - val_loss: 0.1559 - val_accuracy: 0.9658\n",
            "Epoch 6/10\n",
            "1875/1875 [==============================] - 6s 3ms/step - loss: 0.0958 - accuracy: 0.9734 - val_loss: 0.1338 - val_accuracy: 0.9655\n",
            "Epoch 7/10\n",
            "1875/1875 [==============================] - 6s 3ms/step - loss: 0.0801 - accuracy: 0.9773 - val_loss: 0.1253 - val_accuracy: 0.9706\n",
            "Epoch 8/10\n",
            "1875/1875 [==============================] - 6s 3ms/step - loss: 0.0705 - accuracy: 0.9794 - val_loss: 0.1398 - val_accuracy: 0.9709\n",
            "Epoch 9/10\n",
            "1875/1875 [==============================] - 6s 3ms/step - loss: 0.0645 - accuracy: 0.9816 - val_loss: 0.1197 - val_accuracy: 0.9721\n",
            "Epoch 10/10\n",
            "1875/1875 [==============================] - 7s 3ms/step - loss: 0.0612 - accuracy: 0.9831 - val_loss: 0.1502 - val_accuracy: 0.9658\n"
          ]
        },
        {
          "output_type": "execute_result",
          "data": {
            "text/plain": [
              "<keras.callbacks.History at 0x7f1b9f2f24d0>"
            ]
          },
          "metadata": {},
          "execution_count": 28
        }
      ]
    },
    {
      "cell_type": "code",
      "metadata": {
        "id": "6sSjdLDc8jyb",
        "colab": {
          "base_uri": "https://localhost:8080/"
        },
        "outputId": "ff3f3a35-f28c-4a1f-f070-0173c112b9c3"
      },
      "source": [
        "test_loss, test_acc=model.evaluate(x_test, y_test)\n",
        "print('검증 셋 정확도:', test_acc)"
      ],
      "execution_count": null,
      "outputs": [
        {
          "output_type": "stream",
          "name": "stdout",
          "text": [
            "313/313 [==============================] - 1s 2ms/step - loss: 0.1502 - accuracy: 0.9658\n",
            "검증 셋 정확도: 0.9657999873161316\n"
          ]
        }
      ]
    },
    {
      "cell_type": "code",
      "metadata": {
        "id": "0lIeXNWIMZCZ"
      },
      "source": [
        "#예측\n",
        "predictions = model.predict(x_test)"
      ],
      "execution_count": null,
      "outputs": []
    },
    {
      "cell_type": "code",
      "metadata": {
        "colab": {
          "base_uri": "https://localhost:8080/"
        },
        "id": "YSAearb3Mk-a",
        "outputId": "5bb33856-c3a7-44c5-b405-a3b25523580d"
      },
      "source": [
        "predictions[0]"
      ],
      "execution_count": null,
      "outputs": [
        {
          "output_type": "execute_result",
          "data": {
            "text/plain": [
              "array([3.3035128e-15, 1.2331810e-07, 5.1778061e-06, 3.2947202e-05,\n",
              "       1.8743123e-09, 1.4748346e-08, 6.9323414e-37, 9.9993336e-01,\n",
              "       4.7259857e-07, 2.7980068e-05], dtype=float32)"
            ]
          },
          "metadata": {},
          "execution_count": 31
        }
      ]
    },
    {
      "cell_type": "code",
      "metadata": {
        "colab": {
          "base_uri": "https://localhost:8080/"
        },
        "id": "GoaM2_ERMn-A",
        "outputId": "13704f91-6077-4b80-9b34-8e5eca5def09"
      },
      "source": [
        "import numpy as np\n",
        "print(np.argmax(predictions[0]))\n",
        "print(np.argmax(predictions[:10], axis=1))"
      ],
      "execution_count": null,
      "outputs": [
        {
          "output_type": "stream",
          "name": "stdout",
          "text": [
            "7\n",
            "[7 2 1 0 4 1 4 9 5 9]\n"
          ]
        }
      ]
    },
    {
      "cell_type": "code",
      "metadata": {
        "id": "jzX1tTuzM5bW"
      },
      "source": [
        ""
      ],
      "execution_count": null,
      "outputs": []
    }
  ]
}